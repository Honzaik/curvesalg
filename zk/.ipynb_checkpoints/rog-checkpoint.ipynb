{
 "cells": [
  {
   "cell_type": "code",
   "execution_count": 62,
   "metadata": {},
   "outputs": [
    {
     "name": "stdout",
     "output_type": "stream",
     "text": [
      "[0, 0, 1, 1]\n",
      "[2, 3, 5, 7]\n"
     ]
    },
    {
     "data": {
      "text/plain": [
       "36"
      ]
     },
     "execution_count": 62,
     "metadata": {},
     "output_type": "execute_result"
    }
   ],
   "source": [
    "\n",
    "selectedPrime = 149\n",
    "\n",
    "a = 1\n",
    "b = 1\n",
    "\n",
    "R.<x,y> = PolynomialRing(GF(selectedPrime),2,order='invlex')\n",
    "Q.<x,y> = QuotientRing(R,R.ideal(y**2 - x**3 -a*x -b))\n",
    "\n",
    "\n",
    "fPolycache = {}\n",
    "\n",
    "def getFPoly(m):\n",
    "    toReturn = None\n",
    "    if m in fPolyCache:\n",
    "        return fPolyCache[m]\n",
    "\n",
    "    if m == 0:\n",
    "        toReturn = 0\n",
    "    elif m == 1 or m == 2:\n",
    "        toReturn = 1\n",
    "    elif m == 3:\n",
    "        toReturn = 3*x**4+6*a*x**2+12*b*x-a**2\n",
    "    elif m == 4:\n",
    "        toReturn = 2*(x**6 + 5*a*x**4 + 20*b*x**3 - 5*a*a*x**2 - 4*a*b*x - 8*b**2 - a**3)\n",
    "    else:\n",
    "        if m % 2 == 0:\n",
    "            mHalf = m // 2\n",
    "            toReturn = getFPoly(mHalf) * (getFPoly(mHalf + 2) * getFPoly(mHalf - 1)**2 - getFPoly(mHalf - 2) * getFPoly(mHalf + 1)**2)\n",
    "        else:\n",
    "            mHalf = (m-1)//2\n",
    "            if mHalf % 2 == 0:\n",
    "                toReturn = (16*(x**3+a*x+b)**2)*getFPoly(mHalf+2)*getFPoly(mHalf)**3 - getFPoly(mHalf-1)*getFPoly(mHalf+1)**3\n",
    "            else:\n",
    "                toReturn = getFPoly(mHalf+2)*getFPoly(mHalf)**3 -(16*(x**3+a*x+b)**2)*getFPoly(mHalf-1)*getFPoly(mHalf+1)**3\n",
    "    fPolyCache[m] = toReturn\n",
    "    return fPolyCache[m]\n",
    "\n",
    "def getSPoly(m):\n",
    "    ql = selectedPrime % m\n",
    "    if ql == 1:\n",
    "        return x**(selectedPrime**2)-x\n",
    "    if ql % 2 == 0:\n",
    "        return 4*(x**(selectedPrime**2)-x)*(x**3+a*x+b)*getFPoly(ql)**2+getFPoly(ql-1)*getFPoly(ql+1)\n",
    "    else:\n",
    "        return (x**(selectedPrime**2)-x)*getFPoly(ql)**2+(4*(x**3+a*x+b))*getFPoly(ql-1)*getFPoly(ql+1)\n",
    "\n",
    "def equalx(l):\n",
    "    return 0\n",
    "    \n",
    "def nonequalx(l, tau):\n",
    "    return 0\n",
    "def schoff():\n",
    "    B = 2\n",
    "    l = 2\n",
    "    curvePoly = x**3+a*x+b\n",
    "    cycloPoly = x**selectedPrime - x\n",
    "    if Q(R(curvePoly).gcd(R(cycloPoly))) == 1:\n",
    "        tau = 1\n",
    "    else:\n",
    "        tau = 0\n",
    "    residues = [tau]\n",
    "    moduli = [2]\n",
    "    \n",
    "    while B < 4*sqrt(selectedPrime):\n",
    "        l = l.next_prime()\n",
    "        B = B*l\n",
    "        fl = getFPoly(l)\n",
    "        sl = getSPoly(l)\n",
    "        sl = R(sl) % R(fl)\n",
    "        if Q(R(fl).gcd(R(sl))) == 1:\n",
    "            tau = equalx(l)\n",
    "        else:\n",
    "            r = None\n",
    "            tau = 0\n",
    "            while r != 0:\n",
    "                tau += 1\n",
    "                r = nonequalx(l, tau)\n",
    "            if r == -1:\n",
    "                tau = -tau\n",
    "        residues.append(tau)\n",
    "        moduli.append(l)\n",
    "    print(residues)\n",
    "    print(moduli)\n",
    "    return crt(residues, moduli)\n",
    "\n",
    "schoff()\n"
   ]
  },
  {
   "cell_type": "raw",
   "metadata": {},
   "source": []
  },
  {
   "cell_type": "code",
   "execution_count": null,
   "metadata": {},
   "outputs": [],
   "source": []
  },
  {
   "cell_type": "code",
   "execution_count": null,
   "metadata": {},
   "outputs": [],
   "source": []
  }
 ],
 "metadata": {
  "kernelspec": {
   "display_name": "SageMath 9.2",
   "language": "sage",
   "name": "sagemath"
  },
  "language_info": {
   "codemirror_mode": {
    "name": "ipython",
    "version": 3
   },
   "file_extension": ".py",
   "mimetype": "text/x-python",
   "name": "python",
   "nbconvert_exporter": "python",
   "pygments_lexer": "ipython3",
   "version": "3.7.7"
  }
 },
 "nbformat": 4,
 "nbformat_minor": 4
}
